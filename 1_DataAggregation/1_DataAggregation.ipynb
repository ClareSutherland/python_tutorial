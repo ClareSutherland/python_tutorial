{
 "cells": [
  {
   "cell_type": "markdown",
   "metadata": {
    "ein.tags": "worksheet-0",
    "slideshow": {
     "slide_type": "-"
    }
   },
   "source": [
    "# Data Aggregation\n",
    "In this tutorial, I will go through a very simple example of CSV aggregation in Python. The aim here is to get a bunch of text files, and aggregate them into a CSV file containing all of the responses. Have a think about how you would do this manually, as it will guide you in deciding the best way to do this in Python!\n",
    "\n",
    "## Data Description\n",
    "I had a very simple experimental survey that asked people two questions\n",
    "\n",
    "```\n",
    "Questions\n",
    "1. Describe how you felt when you were interrupted.\n",
    "2. Describe what (if any) strategies you used when you were interrupted?\n",
    "```\n",
    "\n"
   ]
  },
  {
   "cell_type": "markdown",
   "metadata": {
    "ein.tags": "worksheet-0",
    "slideshow": {
     "slide_type": "-"
    }
   },
   "source": [
    "## 1: Listing Files in Folders\n",
    "\n",
    "_note that this why we don't use spaces in filenames_\n",
    "\n",
    "Resources:  \n",
    "http://www.google.com/search?q=how+to+open+all+files+in+folder+python  \n",
    "https://stackoverflow.com/questions/3964681/find-all-files-in-a-directory-with-extension-txt-in-python\n"
   ]
  },
  {
   "cell_type": "code",
   "execution_count": 3,
   "metadata": {
    "autoscroll": false,
    "ein.tags": "worksheet-0",
    "slideshow": {
     "slide_type": "-"
    }
   },
   "outputs": [
    {
     "name": "stdout",
     "output_type": "stream",
     "text": [
      "data/EXP2part3.txt\n",
      "data/EXP2part4.txt\n",
      "data/EXP2part1.txt\n",
      "data/EXP2part2.txt\n",
      "data/EXP2part6.txt\n",
      "data/EXP2part5.txt\n"
     ]
    }
   ],
   "source": [
    "# Method 1: os.listdir()\n",
    "import os\n",
    "\n",
    "data_dir = \"data/\"\n",
    "\n",
    "for file in os.listdir(data_dir):\n",
    "    if file.endswith(\".txt\"):\n",
    "#         print(file)\n",
    "        full_file_location = os.path.join(data_dir, file)\n",
    "        print(full_file_location)"
   ]
  },
  {
   "cell_type": "code",
   "execution_count": 4,
   "metadata": {
    "autoscroll": false,
    "ein.tags": "worksheet-0",
    "slideshow": {
     "slide_type": "-"
    }
   },
   "outputs": [
    {
     "name": "stdout",
     "output_type": "stream",
     "text": [
      "./data/EXP2part3.txt\n",
      "./data/EXP2part4.txt\n",
      "./data/EXP2part1.txt\n",
      "./data/EXP2part2.txt\n",
      "./data/EXP2part6.txt\n",
      "./data/EXP2part5.txt\n"
     ]
    }
   ],
   "source": [
    "# Method 2: glob\n",
    "import glob\n",
    "\n",
    "for file in glob.glob(\"./data/*.txt\"):\n",
    "    print(file)"
   ]
  },
  {
   "cell_type": "markdown",
   "metadata": {
    "ein.tags": "worksheet-0",
    "slideshow": {
     "slide_type": "-"
    }
   },
   "source": [
    "## 2: Reading Content of Files at this point we have told python to print the filenames (it can be find them) so now we\n",
    "need to tell it to do something with them.\n",
    "\n",
    "http://www.google.com/search?q=how+to+get+filename+python  \n",
    "https://stackoverflow.com/questions/678236/how-to-get-the-filename-without-the-extension-from-a-path-in-python\n"
   ]
  },
  {
   "cell_type": "code",
   "execution_count": 5,
   "metadata": {
    "autoscroll": false,
    "ein.tags": "worksheet-0",
    "slideshow": {
     "slide_type": "-"
    }
   },
   "outputs": [
    {
     "name": "stdout",
     "output_type": "stream",
     "text": [
      "EXP2part3.txt\n",
      "1. Knew there would be collisions happening but couldn't do anything. Felt like I needed to prepare.\n",
      "\n",
      "2. Moved the mouse toward the expected collisions. Thought of what key to press for the special hand offs.\n",
      "\n",
      "EXP2part4.txt\n",
      "1. Interruption is not necessary because It does not stops collision.\n",
      "\n",
      "2. I just relaxed my eyes when interrupted by blank screen.\n",
      "\n",
      "EXP2part1.txt\n",
      "1. A little frustrated as I was concentrating on the simulation.\n",
      "\n",
      "2. Went over again and again in my head what I needed to do once I returned to the simulation.\n",
      "\n",
      "EXP2part2.txt\n",
      "1. Not much different, I anticipated that there would be more tasks to do in the filled distraction though.\n",
      "\n",
      "2. I made a mental note of where the conflict in the main page was and tried to keep repeating which key to press for the departing plane\n",
      "\n",
      "EXP2part6.txt\n",
      "1. Felt a pressure to remember the incomplete tasks from the primary stimulation.\n",
      "\n",
      "2. Tried to remember the incomplete tasks by saying them in my head\n",
      "\n",
      "EXP2part5.txt\n",
      "1. Annoyed, it distracted me from the game.\n",
      "\n",
      "2. Remembered where the trouble was so I could fix it straight away when the interruption ended.\n",
      "\n"
     ]
    }
   ],
   "source": [
    "import glob\n",
    "import os\n",
    "\n",
    "for file in glob.glob(\"./data/*.txt\"):\n",
    "\n",
    "        # print the filename without folder\n",
    "        print(os.path.basename(file))\n",
    "\n",
    "        # Open file\n",
    "        opened_file = open(file, 'r')\n",
    "        # Read the file\n",
    "        read_file = opened_file.readlines()\n",
    "\n",
    "        for line in read_file:\n",
    "            print(line)\n"
   ]
  },
  {
   "cell_type": "markdown",
   "metadata": {
    "ein.tags": "worksheet-0",
    "slideshow": {
     "slide_type": "-"
    }
   },
   "source": [
    "## 3: Saving Contents of Files (Temporarily)\n",
    "**Awesome** so at this point we can read the contents of the file. We can't manipulate this data. But how can we tell Python we want to store these values and refer to them later?"
   ]
  },
  {
   "cell_type": "code",
   "execution_count": 10,
   "metadata": {
    "autoscroll": false,
    "ein.tags": "worksheet-0",
    "slideshow": {
     "slide_type": "-"
    }
   },
   "outputs": [
    {
     "name": "stdout",
     "output_type": "stream",
     "text": [
      "['EXP2part1.txt', '1. A little frustrated as I was concentrating on the simulation.\\n', '2. Went over again and again in my head what I needed to do once I returned to the simulation.\\n']\n"
     ]
    }
   ],
   "source": [
    "import glob\n",
    "import os\n",
    "\n",
    "full_results_list = []\n",
    "\n",
    "for file in sorted(glob.glob(\"./data/*.txt\")):\n",
    "        opened_file = open(file, 'r')\n",
    "        read_file = opened_file.readlines()\n",
    "        participant_id = os.path.basename(file)\n",
    "        \n",
    "        for line in read_file:\n",
    "            if \"1.\" in line:\n",
    "                response_q1 = line\n",
    "            if \"2.\" in line:\n",
    "                response_q2 = line\n",
    "        results = [participant_id, response_q1, response_q2]\n",
    "        full_results_list.append(results)\n",
    "        \n",
    "print(full_results_list[0])"
   ]
  },
  {
   "cell_type": "markdown",
   "metadata": {
    "ein.tags": "worksheet-0",
    "slideshow": {
     "slide_type": "-"
    }
   },
   "source": [
    "However, we have a problem, this code isn't very efficient. Imagine if we had 100, or 200 items, we don't want\n",
    "to manually keep adding lines for if \"1...59\" in line. So what do we do? Also, the order the results appear in seems a little random, let's tell it do it sorted!\n"
   ]
  },
  {
   "cell_type": "code",
   "execution_count": 11,
   "metadata": {
    "autoscroll": false,
    "ein.tags": "worksheet-0",
    "slideshow": {
     "slide_type": "-"
    }
   },
   "outputs": [
    {
     "name": "stdout",
     "output_type": "stream",
     "text": [
      "['EXP2part1.txt', '1. A little frustrated as I was concentrating on the simulation.\\n', '2. Went over again and again in my head what I needed to do once I returned to the simulation.\\n']\n",
      "['EXP2part2.txt', '1. Not much different, I anticipated that there would be more tasks to do in the filled distraction though.\\n', '2. I made a mental note of where the conflict in the main page was and tried to keep repeating which key to press for the departing plane\\n']\n",
      "['EXP2part3.txt', \"1. Knew there would be collisions happening but couldn't do anything. Felt like I needed to prepare.\\n\", '2. Moved the mouse toward the expected collisions. Thought of what key to press for the special hand offs.\\n']\n",
      "['EXP2part4.txt', '1. Interruption is not necessary because It does not stops collision.\\n', '2. I just relaxed my eyes when interrupted by blank screen.\\n']\n",
      "['EXP2part5.txt', '1. Annoyed, it distracted me from the game.\\n', '2. Remembered where the trouble was so I could fix it straight away when the interruption ended.\\n']\n",
      "['EXP2part6.txt', '1. Felt a pressure to remember the incomplete tasks from the primary stimulation.\\n', '2. Tried to remember the incomplete tasks by saying them in my head\\n']\n"
     ]
    }
   ],
   "source": [
    "import glob\n",
    "import os\n",
    "\n",
    "full_results_list = []\n",
    "\n",
    "for file in sorted(glob.glob(\"./data/*.txt\")):\n",
    "        opened_file = open(file, 'r')\n",
    "        read_file = opened_file.readlines()\n",
    "        results = [os.path.basename(file)]\n",
    "        \n",
    "        # Notice here it's treating each new line as a new result!\n",
    "        # Obviously you need to know what you data looks like to know if this is safe!\n",
    "        for line in read_file:\n",
    "            results.append(line)\n",
    "        full_results_list.append(results)\n",
    "\n",
    "for item in full_results_list:\n",
    "    print(item)\n",
    "## We can also apply formatting at this point to inspect what's going on\n",
    "#     print(item[0])\n",
    "#     print(item[1])\n",
    "#     print(item[2])\n"
   ]
  },
  {
   "cell_type": "markdown",
   "metadata": {
    "ein.tags": "worksheet-0",
    "slideshow": {
     "slide_type": "-"
    }
   },
   "source": [
    "## 4: Cleaning the Data\n",
    "Before we save this file in our final state, we want to fix up some of the mistakes we have. Firstly, do you notice that all the newlines are represented as `\\n`. Also, we still have the question numbers in the responses! Finally, notice the participant names are still the filename! Let's fix that\n",
    "\n",
    "Let's get to it!  \n",
    "Google \"Python remove trailing newline\"  \n",
    "Google \"Python remove first characters from string\"  "
   ]
  },
  {
   "cell_type": "code",
   "execution_count": 12,
   "metadata": {
    "autoscroll": false,
    "ein.tags": "worksheet-0",
    "slideshow": {
     "slide_type": "-"
    }
   },
   "outputs": [
    {
     "name": "stdout",
     "output_type": "stream",
     "text": [
      "[['EXP2part1', 'A little frustrated as I was concentrating on the simulation.', 'Went over again and again in my head what I needed to do once I returned to the simulation.'], ['EXP2part2', 'Not much different, I anticipated that there would be more tasks to do in the filled distraction though.', 'I made a mental note of where the conflict in the main page was and tried to keep repeating which key to press for the departing plane'], ['EXP2part3', \"Knew there would be collisions happening but couldn't do anything. Felt like I needed to prepare.\", 'Moved the mouse toward the expected collisions. Thought of what key to press for the special hand offs.'], ['EXP2part4', 'Interruption is not necessary because It does not stops collision.', 'I just relaxed my eyes when interrupted by blank screen.'], ['EXP2part5', 'Annoyed, it distracted me from the game.', 'Remembered where the trouble was so I could fix it straight away when the interruption ended.'], ['EXP2part6', 'Felt a pressure to remember the incomplete tasks from the primary stimulation.', 'Tried to remember the incomplete tasks by saying them in my head']]\n"
     ]
    }
   ],
   "source": [
    "import glob\n",
    "import os\n",
    "\n",
    "full_results_list = []\n",
    "\n",
    "for file in sorted(glob.glob(\"./data/*.txt\")):\n",
    "        opened_file = open(file, 'r')\n",
    "        read_file = opened_file.readlines()\n",
    "        # Here we use another function from OS to get just the base, and we tell it to strip the file name\n",
    "        results = [os.path.splitext(os.path.basename(file))[0].strip()]\n",
    "        \n",
    "        for line in read_file:\n",
    "            # Here we use square brackets to say only read from the third character onwards\n",
    "            # Then we tell it to strip, which by default removes \\n from the string\n",
    "            line = line[2:].strip()\n",
    "            results.append(line)\n",
    "            \n",
    "        full_results_list.append(results)\n",
    "print(full_results_list)"
   ]
  },
  {
   "cell_type": "markdown",
   "metadata": {
    "ein.tags": "worksheet-0",
    "slideshow": {
     "slide_type": "-"
    }
   },
   "source": [
    "Let's just do a few final checks of the data before we decide it's ready! First of all we will check each individual response stored in the list!"
   ]
  },
  {
   "cell_type": "code",
   "execution_count": null,
   "metadata": {
    "autoscroll": false,
    "ein.tags": "worksheet-0",
    "slideshow": {
     "slide_type": "-"
    }
   },
   "outputs": [],
   "source": [
    "# Participant 1\n",
    "# full_results_list[0]\n",
    "\n",
    "# Participant 3 - Question 1\n",
    "# full_results_list[2][1]\n",
    "\n",
    "# Just to test the functionality\n",
    "# print(\"Participant\", full_results_list[0][0], \"answered:\", full_results_list[0][1])"
   ]
  },
  {
   "cell_type": "markdown",
   "metadata": {
    "ein.tags": "worksheet-0",
    "slideshow": {
     "slide_type": "-"
    }
   },
   "source": [
    "## 5: Saving Permentantly to a CSV file\n",
    "We are now at the stage where our results are coming out cleanly as we anticipated - so we are ready to send it to a final CSV file for exporting! \n",
    "\n",
    "http://www.google.com/search?q=how+do+I+write+to+a+csv+in+python"
   ]
  },
  {
   "cell_type": "code",
   "execution_count": 13,
   "metadata": {
    "autoscroll": false,
    "ein.tags": "worksheet-0",
    "slideshow": {
     "slide_type": "-"
    }
   },
   "outputs": [],
   "source": [
    "import glob\n",
    "import os\n",
    "import csv\n",
    "\n",
    "full_results_list = []\n",
    "\n",
    "for file in sorted(glob.glob(\"./data/*.txt\")):\n",
    "        opened_file = open(file, 'r')\n",
    "        read_file = opened_file.readlines()\n",
    "        results = [os.path.splitext(os.path.basename(file))[0]]\n",
    "        for line in read_file:\n",
    "            line = line[2:].strip()\n",
    "            results.append(line)\n",
    "        full_results_list.append(results)\n",
    "        \n",
    "with open('final_results.csv', 'w') as csvfile:\n",
    "    my_writer = csv.writer(csvfile)\n",
    "    my_writer.writerows(full_results_list)\n",
    "        \n",
    "    \n"
   ]
  },
  {
   "cell_type": "markdown",
   "metadata": {
    "ein.tags": "worksheet-0",
    "slideshow": {
     "slide_type": "-"
    }
   },
   "source": [
    "# Fin"
   ]
  }
 ],
 "metadata": {
  "kernelspec": {
   "display_name": "Python 3",
   "language": "python",
   "name": "python3"
  },
  "language_info": {
   "codemirror_mode": {
    "name": "ipython",
    "version": 3
   },
   "file_extension": ".py",
   "mimetype": "text/x-python",
   "name": "python",
   "nbconvert_exporter": "python",
   "pygments_lexer": "ipython3",
   "version": "3.6.5rc1"
  },
  "name": "1_DataAggregation.ipynb"
 },
 "nbformat": 4,
 "nbformat_minor": 2
}
